{
 "cells": [
  {
   "cell_type": "markdown",
   "metadata": {},
   "source": [
    "# This notebook is (initially) used to plot Average intensities within GUVs over time as part of a Calcein fluorescence, cobalt transport detection assay."
   ]
  },
  {
   "cell_type": "code",
   "execution_count": 14,
   "metadata": {},
   "outputs": [],
   "source": [
    "import numpy as np\n",
    "from matplotlib import pyplot as plt\n",
    "import pandas as pd"
   ]
  },
  {
   "cell_type": "code",
   "execution_count": 15,
   "metadata": {},
   "outputs": [],
   "source": [
    "# load measurements taken from ImageJ\n",
    "# these are loaded as dataframes with 4 columns. select the mean column and store wrt the guv id (arbitrarily)\n",
    "\n",
    "guv_Is = {}\n",
    "\n",
    "for i in range(1,4):\n",
    "    df = pd.read_csv('../20210108_Ompf_charge_mediated_fusion_calcein_cobalt/CobaltAssay/CoTransportGUV'+str(i)+'.csv')\n",
    "    guv_Is[str(i)] = df['Mean']\n",
    "    \n",
    "    "
   ]
  },
  {
   "cell_type": "code",
   "execution_count": 16,
   "metadata": {},
   "outputs": [
    {
     "data": {
      "text/plain": [
       "(484,)"
      ]
     },
     "execution_count": 16,
     "metadata": {},
     "output_type": "execute_result"
    }
   ],
   "source": [
    "guv_Is['2'].shape"
   ]
  },
  {
   "cell_type": "code",
   "execution_count": 20,
   "metadata": {},
   "outputs": [
    {
     "data": {
      "text/plain": [
       "Text(0.5, 1.0, 'Rate of Co 2+ quenching Calcein')"
      ]
     },
     "execution_count": 20,
     "metadata": {},
     "output_type": "execute_result"
    }
   ],
   "source": [
    "%matplotlib qt\n",
    "fig,ax = plt.subplots(1,1)\n",
    "\n",
    "for key in guv_Is.keys():\n",
    "    ax.plot(np.arange(0,484)*5/60,guv_Is[key])\n",
    "    \n",
    "plt.xlabel('T [min]',fontsize = 15)\n",
    "plt.ylabel('Internal I [min]',fontsize = 15)\n",
    "plt.title('Rate of Co 2+ quenching Calcein',fontsize = 15)\n"
   ]
  },
  {
   "cell_type": "code",
   "execution_count": null,
   "metadata": {},
   "outputs": [],
   "source": []
  }
 ],
 "metadata": {
  "kernelspec": {
   "display_name": "Python 3",
   "language": "python",
   "name": "python3"
  },
  "language_info": {
   "codemirror_mode": {
    "name": "ipython",
    "version": 3
   },
   "file_extension": ".py",
   "mimetype": "text/x-python",
   "name": "python",
   "nbconvert_exporter": "python",
   "pygments_lexer": "ipython3",
   "version": "3.8.3"
  }
 },
 "nbformat": 4,
 "nbformat_minor": 4
}
